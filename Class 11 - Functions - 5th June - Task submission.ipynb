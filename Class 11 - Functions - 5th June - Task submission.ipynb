{
 "cells": [
  {
   "cell_type": "code",
   "execution_count": 1,
   "id": "b067597e",
   "metadata": {},
   "outputs": [
    {
     "name": "stdout",
     "output_type": "stream",
     "text": [
      "Enter range start: 1\n",
      "Enter range end: 100\n",
      "Prime numbers between 1 and 100\n",
      "2\n",
      "3\n",
      "5\n",
      "7\n",
      "11\n",
      "13\n",
      "17\n",
      "19\n",
      "23\n",
      "29\n",
      "31\n",
      "37\n",
      "41\n",
      "43\n",
      "47\n",
      "53\n",
      "59\n",
      "61\n",
      "67\n",
      "71\n",
      "73\n",
      "79\n",
      "83\n",
      "89\n",
      "97\n"
     ]
    }
   ],
   "source": [
    "#1. Try to print a prime numbers in between 1 to 1000\n",
    "\n",
    "range_start = int(input(\"Enter range start: \"))\n",
    "range_end = int(input(\"Enter range end: \"))\n",
    "\n",
    "print(\"Prime numbers between\",range_start,\"and\",range_end)\n",
    "for n in range(range_start,range_end+1):\n",
    "    if n>1:\n",
    "        for i in range(2,n):\n",
    "            if (n%i) == 0:\n",
    "                break\n",
    "        else:\n",
    "            print(n)"
   ]
  },
  {
   "cell_type": "code",
   "execution_count": 6,
   "id": "4ce4dc0a",
   "metadata": {},
   "outputs": [
    {
     "name": "stdout",
     "output_type": "stream",
     "text": [
      "Enter input: Hello world\n",
      "Hello world"
     ]
    },
    {
     "data": {
      "text/plain": [
       "11"
      ]
     },
     "execution_count": 6,
     "metadata": {},
     "output_type": "execute_result"
    }
   ],
   "source": [
    "#2. Try to write a function which is equivalent to print function in python\n",
    "\n",
    "input_value = input(\"Enter input: \")\n",
    "\n",
    "import sys\n",
    "sys.stdout.write(input_value)"
   ]
  },
  {
   "cell_type": "code",
   "execution_count": 7,
   "id": "e9214a83",
   "metadata": {},
   "outputs": [
    {
     "data": {
      "text/plain": [
       "[1, 2, 3, 4]"
      ]
     },
     "execution_count": 7,
     "metadata": {},
     "output_type": "execute_result"
    }
   ],
   "source": [
    "#3. Try to write a function which is a replica of list append, extend and pop function\n",
    "\n",
    "\n",
    "#Append operation\n",
    "# l1 = [1,2,3,4,5]\n",
    "# l2 = [6,7,8]\n",
    "# l1=l1+l2\n",
    "\n",
    "\n",
    "#Extend operation\n",
    "# l = [4,5,6,7,8]\n",
    "# s = [10,11,12]\n",
    "# def extend_op(l,s):\n",
    "#     l[len(l):]=s\n",
    "\n",
    "# extend_op(l,s)\n",
    "# print(l)\n",
    "\n",
    "\n",
    "#pop operation\n",
    "# lst = [1,2,3,4,5,6]\n",
    "# lst[:] = lst[:-1]\n",
    "# print(lst)\n",
    "\n",
    "###################################################################\n",
    "\n",
    "#append operation:\n",
    "def append_list(l,element) :\n",
    "    l += [element]\n",
    "    return l\n",
    "append_list([1,2,3],4)\n",
    "\n",
    "\n",
    "\n"
   ]
  },
  {
   "cell_type": "code",
   "execution_count": null,
   "id": "9333d68e",
   "metadata": {},
   "outputs": [],
   "source": []
  },
  {
   "cell_type": "code",
   "execution_count": 3,
   "id": "4f757985",
   "metadata": {},
   "outputs": [],
   "source": [
    "#4. Try to write a lambda function which can return a concatenation of all the string that will pass\n",
    "\n",
    "# lst = input(\"Enter input string: \")\n",
    "# print(''.join(map(lambda x: str(x), lst)))\n",
    "\n",
    "# l = (''.join(map(lambda *x: str(x))))\n",
    "# print(l)\n",
    "\n",
    "l = lambda *args : \"\".join([i for i in args])\n"
   ]
  },
  {
   "cell_type": "code",
   "execution_count": 4,
   "id": "8629440a",
   "metadata": {},
   "outputs": [
    {
     "data": {
      "text/plain": [
       "'sudhanshukumar'"
      ]
     },
     "execution_count": 4,
     "metadata": {},
     "output_type": "execute_result"
    }
   ],
   "source": [
    "l('sudhanshu','kumar')"
   ]
  },
  {
   "cell_type": "code",
   "execution_count": 5,
   "id": "e0f18dfc",
   "metadata": {},
   "outputs": [
    {
     "name": "stdout",
     "output_type": "stream",
     "text": [
      "[0, 1, 4, 9, 16, 25, 36, 49, 64, 81, 100, 121, 144, 169, 196, 225, 256, 289, 324, 361, 400, 441, 484, 529, 576, 625, 676, 729, 784, 841, 900, 961, 1024, 1089, 1156, 1225, 1296, 1369, 1444, 1521, 1600, 1681, 1764, 1849, 1936, 2025, 2116, 2209, 2304, 2401, 2500, 2601, 2704, 2809, 2916, 3025, 3136, 3249, 3364, 3481, 3600, 3721, 3844, 3969, 4096, 4225, 4356, 4489, 4624, 4761, 4900, 5041, 5184, 5329, 5476, 5625, 5776, 5929, 6084, 6241, 6400, 6561, 6724, 6889, 7056, 7225, 7396, 7569, 7744, 7921, 8100, 8281, 8464, 8649, 8836, 9025, 9216, 9409, 9604, 9801, 10000]\n"
     ]
    }
   ],
   "source": [
    "#5. Try to write a lambda function which can return a list of square of all the data between 1-100\n",
    "\n",
    "\n",
    "lst = list(map(lambda i: i*i, range(101)))\n",
    "print(lst) "
   ]
  },
  {
   "cell_type": "code",
   "execution_count": null,
   "id": "6fa966c0",
   "metadata": {},
   "outputs": [],
   "source": []
  },
  {
   "cell_type": "code",
   "execution_count": null,
   "id": "376c30e2",
   "metadata": {},
   "outputs": [],
   "source": [
    "#6. Try to write a 10 different example of lambda function with a choice of your tasks\n",
    "\n",
    "#Example 1:\n",
    "rem = lambda x:x%2\n",
    "print(rem(10))\n",
    "\n",
    "#Example 2:\n",
    "mul = lambda x, y : x * y\n",
    "print(add(2,3))\n",
    "\n",
    "#Example 3:\n",
    "add = lambda a,b : a+b\n",
    "print(add(2,3))\n",
    "\n",
    "#Example 4:\n",
    "s = input(\"Enter string: \")\n",
    "print(lambda s:print(s))\n",
    "\n",
    "#Example 5:\n",
    "s = (lambda x: (x % 2 and 'odd' or 'even'))\n",
    "print(s(5))\n",
    "\n",
    "#Example 6:\n",
    "x = lambda a : a + 10\n",
    "print(x(5))\n",
    "\n",
    "#Example 7:\n",
    "cube = lambda x : x*x*x\n",
    "print(cube(3))\n",
    "\n",
    "#Example 8:\n",
    "def my_func(x): \n",
    "    return x*x \n",
    "print(my_func(3))\n",
    "\n",
    "#Example 9:\n",
    "input_list = lambda *a: [i**2 for i in a]\n",
    "print(input_list(1,2,3,4,5,6))\n",
    "\n",
    "#Example 10:\n",
    "input_list = lambda *a: [i*3 for i in a]\n",
    "print(input_list(1,2,3,4,5,6))"
   ]
  },
  {
   "cell_type": "code",
   "execution_count": null,
   "id": "75fd899f",
   "metadata": {},
   "outputs": [],
   "source": []
  },
  {
   "cell_type": "code",
   "execution_count": 6,
   "id": "d443860e",
   "metadata": {},
   "outputs": [
    {
     "name": "stdout",
     "output_type": "stream",
     "text": [
      "This is a sample text file\n",
      "Entire file is read\n"
     ]
    }
   ],
   "source": [
    "#7. Try to write a function which can perform a read operation from .txt file\n",
    "\n",
    "file = open(r\"C:\\Users\\home\\Desktop\\sample.txt\",'r')  \n",
    "content = file.read()  \n",
    "print(content)  \n",
    "file.close() \n"
   ]
  },
  {
   "cell_type": "code",
   "execution_count": null,
   "id": "840f7815",
   "metadata": {},
   "outputs": [],
   "source": []
  }
 ],
 "metadata": {
  "kernelspec": {
   "display_name": "Python 3 (ipykernel)",
   "language": "python",
   "name": "python3"
  },
  "language_info": {
   "codemirror_mode": {
    "name": "ipython",
    "version": 3
   },
   "file_extension": ".py",
   "mimetype": "text/x-python",
   "name": "python",
   "nbconvert_exporter": "python",
   "pygments_lexer": "ipython3",
   "version": "3.9.12"
  }
 },
 "nbformat": 4,
 "nbformat_minor": 5
}
