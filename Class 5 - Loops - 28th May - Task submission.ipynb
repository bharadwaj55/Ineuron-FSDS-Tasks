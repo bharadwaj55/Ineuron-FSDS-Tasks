{
 "cells": [
  {
   "cell_type": "code",
   "execution_count": null,
   "id": "2742d3ed",
   "metadata": {},
   "outputs": [],
   "source": [
    "#Questions & Solutions:"
   ]
  },
  {
   "cell_type": "code",
   "execution_count": 73,
   "id": "b6f2530c",
   "metadata": {},
   "outputs": [
    {
     "name": "stdout",
     "output_type": "stream",
     "text": [
      "ineuron \n",
      "\n",
      "ineuron ineuron \n",
      "\n",
      "ineuron ineuron ineuron \n",
      "\n",
      "ineuron ineuron ineuron ineuron \n",
      "\n"
     ]
    }
   ],
   "source": [
    "#Question1: Print the pattern\n",
    "# ineuron\n",
    "# ineuron ineuron\n",
    "# ineuron ineuron ineuron\n",
    "# ineuron ineuron ineuron ineuron\n",
    "\n",
    "# number of rows\n",
    "n=4\n",
    "for i in range(0,n):\n",
    "    for j in range(0, i + 1):\n",
    "        print(\"ineuron\", end=' ')\n",
    "    print(\"\\n\")"
   ]
  },
  {
   "cell_type": "code",
   "execution_count": null,
   "id": "34b9bab1",
   "metadata": {},
   "outputs": [],
   "source": []
  },
  {
   "cell_type": "code",
   "execution_count": 74,
   "id": "b642d505",
   "metadata": {},
   "outputs": [
    {
     "name": "stdout",
     "output_type": "stream",
     "text": [
      "      ineuron  \n",
      "\n",
      "   ineuron  ineuron  \n",
      "\n",
      "ineuron  ineuron  ineuron  \n",
      "\n",
      "    ineuron  ineuron  \n",
      "\n",
      "        ineuron  \n",
      "\n"
     ]
    }
   ],
   "source": [
    "#Question2: Print the pattern\n",
    "#                ineuron\n",
    "#         ineuron       ineuron\n",
    "#  ineuron       ineuron       ineuron\n",
    "#         ineuron       ineuron\n",
    "#                ineuron\n",
    "\n",
    "rows = 2\n",
    "k = 2 * rows - 2\n",
    "for i in range(0, rows):\n",
    "    for j in range(0, k):\n",
    "        print(end=\"   \")\n",
    "    k = k - 1\n",
    "    for j in range(0, i + 1):\n",
    "        print(\"ineuron \", end=\" \")\n",
    "    print(\"\\n\")\n",
    "    \n",
    "k = rows - 2\n",
    "\n",
    "for i in range(rows, -1, -1):\n",
    "    for j in range(k, 0, -1):\n",
    "        print(end=\"    \")\n",
    "    k = k + 1\n",
    "    for j in range(0, i + 1):\n",
    "        print(\"ineuron \", end=\" \")\n",
    "    print(\"\\n\")"
   ]
  },
  {
   "cell_type": "code",
   "execution_count": null,
   "id": "7bbc094d",
   "metadata": {},
   "outputs": [],
   "source": []
  },
  {
   "cell_type": "code",
   "execution_count": 1,
   "id": "bd04e37c",
   "metadata": {},
   "outputs": [
    {
     "name": "stdout",
     "output_type": "stream",
     "text": [
      "[1, 2, 3, 4]\n",
      "['ineuron', 'datascience']\n"
     ]
    }
   ],
   "source": [
    "#Question3: Try to extract all the list entities\n",
    "# Check the collection below\n",
    "\n",
    "l = [[1,2,3,4],(2,3,4,5,6),(3,4,5,6,7),set([23,4,5,45,4,4,5,45,45,4,5]),{\"k1\":\"sudh\",\"k2\":\"ineuron\",\"k3\":\"kumar\",3:6,7:8},[\"ineuron\",\"datascience\"]]\n",
    "\n",
    "for i in l:\n",
    "    if type(i)==list:\n",
    "        print(i)\n",
    "#         for j in i:\n",
    "#             print(j)"
   ]
  },
  {
   "cell_type": "code",
   "execution_count": null,
   "id": "ddf5a4ba",
   "metadata": {},
   "outputs": [],
   "source": []
  },
  {
   "cell_type": "code",
   "execution_count": 76,
   "id": "218d3721",
   "metadata": {},
   "outputs": [
    {
     "name": "stdout",
     "output_type": "stream",
     "text": [
      "k1\n",
      "k2\n",
      "k3\n",
      "3\n",
      "7\n"
     ]
    }
   ],
   "source": [
    "#Question4: Try to extract all the dict entries\n",
    "\n",
    "l = [[1,2,3,4],(2,3,4,5,6),(3,4,5,6,7),set([23,4,5,45,4,4,5,45,45,4,5]),{\"k1\":\"sudh\",\"k2\":\"ineuron\",\"k3\":\"kumar\",3:6,7:8},[\"ineuron\",\"datascience\"]]\n",
    "\n",
    "for i in l:\n",
    "    if type(i)==dict:\n",
    "        for j in i:\n",
    "            print(j)"
   ]
  },
  {
   "cell_type": "code",
   "execution_count": null,
   "id": "db303b9d",
   "metadata": {},
   "outputs": [],
   "source": []
  },
  {
   "cell_type": "code",
   "execution_count": 77,
   "id": "f939df82",
   "metadata": {},
   "outputs": [
    {
     "name": "stdout",
     "output_type": "stream",
     "text": [
      "2\n",
      "3\n",
      "4\n",
      "5\n",
      "6\n",
      "3\n",
      "4\n",
      "5\n",
      "6\n",
      "7\n"
     ]
    }
   ],
   "source": [
    "#Question5: Try to extract all the tuple entities\n",
    "\n",
    "l = [[1,2,3,4],(2,3,4,5,6),(3,4,5,6,7),set([23,4,5,45,4,4,5,45,45,4,5]),{\"k1\":\"sudh\",\"k2\":\"ineuron\",\"k3\":\"kumar\",3:6,7:8},[\"ineuron\",\"datascience\"]]\n",
    "\n",
    "for i in l:\n",
    "    if type(i)==tuple:\n",
    "        for j in i:\n",
    "            print(j)"
   ]
  },
  {
   "cell_type": "code",
   "execution_count": null,
   "id": "096f9120",
   "metadata": {},
   "outputs": [],
   "source": []
  },
  {
   "cell_type": "code",
   "execution_count": 78,
   "id": "1a8037a2",
   "metadata": {},
   "outputs": [
    {
     "name": "stdout",
     "output_type": "stream",
     "text": [
      "All the numeric elements: [1, 2, 3, 4, 2, 3, 4, 5, 6, 3, 4, 5, 6, 7, 45, 4, 5, 23, 3, 6, 7, 8]\n"
     ]
    }
   ],
   "source": [
    "#Question6: Try to extract all the numerical data, it may be part of dict key and value as well\n",
    "\n",
    "l = [[1,2,3,4],(2,3,4,5,6),(3,4,5,6,7),set([23,4,5,45,4,4,5,45,45,4,5]),{\"k1\":\"sudh\",\"k2\":\"ineuron\",\"k3\":\"kumar\",3:6,7:8},[\"ineuron\",\"datascience\"]]\n",
    "\n",
    "l1=[]\n",
    "l2=[]\n",
    "\n",
    "for i in l:\n",
    "    if type(i)==list or type(i)==tuple:\n",
    "        for j in i:\n",
    "            if type(j)==int:\n",
    "                l1.append(j)\n",
    "\n",
    "    if type(i)==set:\n",
    "        for m in list(set(i)):\n",
    "            l1.append(m)                \n",
    "                \n",
    "    if type(i)==dict:\n",
    "        for k,v in i.items():\n",
    "            if type(k)==int:\n",
    "                l1.append(k)\n",
    "                l1.append(v)\n",
    "                \n",
    "print(\"All the numeric elements:\",l1)\n"
   ]
  },
  {
   "cell_type": "code",
   "execution_count": null,
   "id": "3b9c5c19",
   "metadata": {},
   "outputs": [],
   "source": []
  },
  {
   "cell_type": "code",
   "execution_count": 79,
   "id": "7e9bf24a",
   "metadata": {},
   "outputs": [
    {
     "name": "stdout",
     "output_type": "stream",
     "text": [
      "sum of numbers is: 153\n"
     ]
    }
   ],
   "source": [
    "#Question7: Try to do summation of all the numeric data\n",
    "\n",
    "l = [[1,2,3,4],(2,3,4,5,6),(3,4,5,6,7),set([23,4,5,45,4,4,5,45,45,4,5]),{\"k1\":\"sudh\",\"k2\":\"ineuron\",\"k3\":\"kumar\",3:6,7:8},[\"ineuron\",\"datascience\"]]\n",
    "\n",
    "l1=[]\n",
    "for i in l:\n",
    "    if type(i)==list or type(i)==tuple:\n",
    "        for j in i:\n",
    "            if type(j)==int:\n",
    "                l1.append(j)\n",
    "        \n",
    "    if type(i)==dict:\n",
    "        for k in i.items():\n",
    "            if type(k)==int:\n",
    "                l1.append(k)\n",
    "\n",
    "    if type(i)==set:\n",
    "        for m in list(set(i)):\n",
    "            if type(m)==int:\n",
    "                l1.append(m)\n",
    "\n",
    "summation=0            \n",
    "for s in range(0,len(l1)):\n",
    "    summation=summation+s\n",
    "print(\"sum of numbers is:\",summation)"
   ]
  },
  {
   "cell_type": "code",
   "execution_count": null,
   "id": "be41226e",
   "metadata": {},
   "outputs": [],
   "source": []
  },
  {
   "cell_type": "code",
   "execution_count": 80,
   "id": "a9e057ea",
   "metadata": {},
   "outputs": [
    {
     "name": "stdout",
     "output_type": "stream",
     "text": [
      "Collection of integers: [1, 2, 3, 4, 2, 3, 4, 5, 6, 3, 4, 5, 6, 7, 45, 4, 5, 23]\n",
      "The list of odd numbers: [1, 3, 5, 7, 9, 11, 13, 15, 17]\n"
     ]
    }
   ],
   "source": [
    "#Question8: Try to filter out all the odd values out of all the numeric data, which is a part of list\n",
    "\n",
    "l = [[1,2,3,4],(2,3,4,5,6),(3,4,5,6,7),set([23,4,5,45,4,4,5,45,45,4,5]),{\"k1\":\"sudh\",\"k2\":\"ineuron\",\"k3\":\"kumar\",3:6,7:8},[\"ineuron\",\"datascience\"]]\n",
    "\n",
    "l1=[]\n",
    "l2=[]\n",
    "\n",
    "for i in l:\n",
    "    if type(i)==list or type(i)==tuple:\n",
    "        for j in i:\n",
    "            if type(j)==int:\n",
    "                l1.append(j)\n",
    "        \n",
    "    if type(i)==dict:\n",
    "        for k in i.items():\n",
    "            if type(k)==int:\n",
    "                l1.append(k)\n",
    "\n",
    "    if type(i)==set:\n",
    "        for m in list(set(i)):\n",
    "            if type(m)==int:\n",
    "                l1.append(m)\n",
    "\n",
    "for o in range(0,len(l1)):\n",
    "    if (o%2)!=0:\n",
    "        l2.append(o)\n",
    "\n",
    "        \n",
    "print(\"Collection of integers:\",l1)        \n",
    "print(\"The list of odd numbers:\",l2)"
   ]
  },
  {
   "cell_type": "code",
   "execution_count": null,
   "id": "875cf1f5",
   "metadata": {},
   "outputs": [],
   "source": []
  },
  {
   "cell_type": "code",
   "execution_count": 81,
   "id": "cc0cf4ef",
   "metadata": {},
   "outputs": [
    {
     "name": "stdout",
     "output_type": "stream",
     "text": [
      "ineuron <class 'str'>\n",
      "ineuron <class 'tuple'>\n"
     ]
    }
   ],
   "source": [
    "#Question9: Try to extract \"ineuron\" out of this data\n",
    "\n",
    "l = [[1,2,3,4],(2,3,4,5,6),(3,4,5,6,7),set([23,4,5,45,4,4,5,45,45,4,5]),{\"k1\":\"sudh\",\"k2\":\"ineuron\",\"k3\":\"kumar\",3:6,7:8},[\"ineuron\",\"datascience\"]]\n",
    "str = \"ineuron\"\n",
    "\n",
    "\n",
    "for i in l:\n",
    "    if type(i)==list or type(i)==tuple:\n",
    "        for j in i:\n",
    "            if j==\"ineuron\":\n",
    "                print(j,type(k))\n",
    "                \n",
    "    if type(i)==dict:\n",
    "        for k in i.items():\n",
    "            if k==\"ineuron\":\n",
    "                print(k,type(k))\n",
    "        for v in i.values():\n",
    "            if v==\"ineuron\":\n",
    "                print(v, type(v))"
   ]
  },
  {
   "cell_type": "code",
   "execution_count": null,
   "id": "03fd4dcf",
   "metadata": {},
   "outputs": [],
   "source": []
  },
  {
   "cell_type": "code",
   "execution_count": 2,
   "id": "ca6cfa87",
   "metadata": {},
   "outputs": [
    {
     "name": "stdout",
     "output_type": "stream",
     "text": [
      "All the elements in the given list: \n",
      " [[1, 2, 3, 4], (2, 3, 4, 5, 6), (3, 4, 5, 6, 7), {45, 4, 5, 23}, {'k1': 'sudh', 'k2': 'ineuron', 'k3': 'kumar', 3: 6, 7: 8}, ['ineuron', 'datascience']]\n",
      "All the elements in the collection: \n",
      " [1, 2, 3, 4, 2, 3, 4, 5, 6, 3, 4, 5, 6, 7, 45, 4, 5, 23, 'k1', 'sudh', 'k2', 'ineuron', 'k3', 'kumar', 3, 6, 7, 8, 'ineuron', 'datascience']\n",
      "Occurence of datascience is 1\n",
      "Occurence of 1 is 1\n",
      "Occurence of 2 is 2\n",
      "Occurence of 3 is 4\n",
      "Occurence of 4 is 4\n",
      "Occurence of 5 is 3\n",
      "Occurence of 6 is 3\n",
      "Occurence of 7 is 2\n",
      "Occurence of k3 is 1\n",
      "Occurence of k2 is 1\n",
      "Occurence of sudh is 1\n",
      "Occurence of 8 is 1\n",
      "Occurence of k1 is 1\n",
      "Occurence of 45 is 1\n",
      "Occurence of ineuron is 2\n",
      "Occurence of kumar is 1\n",
      "Occurence of 23 is 1\n"
     ]
    }
   ],
   "source": [
    "#Question10: Try to find out all the occurences of all the data\n",
    "\n",
    "l = [[1,2,3,4],(2,3,4,5,6),(3,4,5,6,7),set([23,4,5,45,4,4,5,45,45,4,5]),{\"k1\":\"sudh\",\"k2\":\"ineuron\",\"k3\":\"kumar\",3:6,7:8},[\"ineuron\",\"datascience\"]]\n",
    "\n",
    "l1=[]\n",
    "\n",
    "for i in l:\n",
    "    if type(i)==list or type(i)==tuple:\n",
    "        for j in i:\n",
    "            l1.append(j)\n",
    "\n",
    "    if type(i)==set:\n",
    "        for m in list(set(i)):\n",
    "            l1.append(m)                        \n",
    "            \n",
    "    if type(i)==dict:\n",
    "        for k,v in i.items():\n",
    "            l1.append(k)\n",
    "            l1.append(v)\n",
    "            \n",
    "                \n",
    "print(\"All the elements in the given list:\",\"\\n\",l)                \n",
    "print(\"All the elements in the collection:\",\"\\n\",l1)  \n",
    "\n",
    "for c in set(l1):\n",
    "    print(\"Occurence of\",c,\"is\",l1.count(c))"
   ]
  },
  {
   "cell_type": "code",
   "execution_count": null,
   "id": "07f33db3",
   "metadata": {},
   "outputs": [],
   "source": []
  },
  {
   "cell_type": "code",
   "execution_count": 83,
   "id": "08d0cfae",
   "metadata": {},
   "outputs": [
    {
     "name": "stdout",
     "output_type": "stream",
     "text": [
      "Number of keys in Dictionary are: 5\n"
     ]
    }
   ],
   "source": [
    "#Question11: Try to find out number of keys in dict element\n",
    "\n",
    "l = [[1,2,3,4],(2,3,4,5,6),(3,4,5,6,7),set([23,4,5,45,4,4,5,45,45,4,5]),{\"k1\":\"sudh\",\"k2\":\"ineuron\",\"k3\":\"kumar\",3:6,7:8},[\"ineuron\",\"datascience\"]]\n",
    "l1=[]\n",
    "\n",
    "for i in l:\n",
    "    if type(i)==dict:\n",
    "        for j in i:\n",
    "            l1.append(j)\n",
    "            \n",
    "print(\"Number of keys in Dictionary are:\",len(l1))   "
   ]
  },
  {
   "cell_type": "code",
   "execution_count": null,
   "id": "9bbf5d95",
   "metadata": {},
   "outputs": [],
   "source": []
  },
  {
   "cell_type": "code",
   "execution_count": 84,
   "id": "0a7caa36",
   "metadata": {},
   "outputs": [
    {
     "name": "stdout",
     "output_type": "stream",
     "text": [
      "Elements with string data type in the collection are: []\n"
     ]
    }
   ],
   "source": [
    "#Question12: Try to filter out all the string data\n",
    "\n",
    "l = [[1,2,3,4],(2,3,4,5,6),(3,4,5,6,7),set([23,4,5,45,4,4,5,45,45,4,5]),{\"k1\":\"sudh\",\"k2\":\"ineuron\",\"k3\":\"kumar\",3:6,7:8},[\"ineuron\",\"datascience\"]]\n",
    "\n",
    "l1=[]\n",
    "\n",
    "for i in l:\n",
    "    if type(i) == list or type(i) == tuple or type(i) == set:\n",
    "        for j in i:\n",
    "            if type(j) == str:\n",
    "                l1.append(j)\n",
    "                \n",
    "            if type(i) == dict:\n",
    "                for k, v in i.items():\n",
    "                    if type(k) == str or type(v) == str:\n",
    "                        l1.append(k)\n",
    "                        l1.append(v)\n",
    "                \n",
    "for i in l1:        \n",
    "print(\"Elements with string data type in the collection are:\",l1)"
   ]
  },
  {
   "cell_type": "code",
   "execution_count": null,
   "id": "75793d10",
   "metadata": {},
   "outputs": [],
   "source": []
  },
  {
   "cell_type": "code",
   "execution_count": 85,
   "id": "fc55e778",
   "metadata": {},
   "outputs": [
    {
     "name": "stdout",
     "output_type": "stream",
     "text": [
      "Alphanumeric elements are: k1\n",
      "Alphanumeric elements are: sudh\n",
      "Alphanumeric elements are: k2\n",
      "Alphanumeric elements are: ineuron\n",
      "Alphanumeric elements are: k3\n",
      "Alphanumeric elements are: kumar\n"
     ]
    }
   ],
   "source": [
    "#Question13: Try to find out alphanum in data\n",
    "\n",
    "l = [[1,2,3,4],(2,3,4,5,6),(3,4,5,6,7),set([23,4,5,45,4,4,5,45,45,4,5]),{\"k1\":\"sudh\",\"k2\":\"ineuron\",\"k3\":\"kumar\",3:6,7:8},[\"ineuron\",\"datascience\"]]\n",
    "\n",
    "l1=[]\n",
    "l2=[]\n",
    "\n",
    "for i in l:            \n",
    "    if type(i)==dict:\n",
    "        for k in i.items():\n",
    "            l1.append(k)\n",
    "            \n",
    "for i in l1:\n",
    "    for j in i:\n",
    "        if type(j)!=int:\n",
    "            l2.append(j)\n",
    "            \n",
    "for a in l2:\n",
    "    if a.isalnum():\n",
    "        print(\"Alphanumeric elements are:\",a)\n"
   ]
  },
  {
   "cell_type": "code",
   "execution_count": null,
   "id": "0a7f96ad",
   "metadata": {},
   "outputs": [],
   "source": []
  },
  {
   "cell_type": "code",
   "execution_count": 86,
   "id": "b48f37ed",
   "metadata": {},
   "outputs": [
    {
     "name": "stdout",
     "output_type": "stream",
     "text": [
      "Multiplication of elements in list l[0]: [24]\n",
      "Multiplication of elements in list l[1]: [720]\n",
      "Multiplication of elements in list l[2]: [2520]\n",
      "Multiplication of elements in list l[3]: [20700]\n"
     ]
    }
   ],
   "source": [
    "#Question14: Try to find out multiplication of all the individual collection inside dataset\n",
    "\n",
    "l = [[1,2,3,4],(2,3,4,5,6),(3,4,5,6,7),set([23,4,5,45,4,4,5,45,45,4,5]),{\"k1\":\"sudh\",\"k2\":\"ineuron\",\"k3\":\"kumar\",3:6,7:8},[\"ineuron\",\"datascience\"]]\n",
    "\n",
    "l1=l[0]\n",
    "l2=l[1]\n",
    "l3=l[2]\n",
    "s1=list(l[3])\n",
    "\n",
    "a=1\n",
    "b=1\n",
    "c=1\n",
    "d=1\n",
    "\n",
    "l1_mul=[]\n",
    "l2_mul=[]\n",
    "l3_mul=[]\n",
    "s1_mul=[]\n",
    "\n",
    "#Multiplication of elements inside l[0]\n",
    "for i in l1:\n",
    "    a=a*i\n",
    "l1_mul.append(a)\n",
    "\n",
    "#Multiplication of elements inside l[1]\n",
    "for j in l2:\n",
    "    b=b*j\n",
    "l2_mul.append(b)\n",
    "\n",
    "#Multiplication of elements inside l[2]\n",
    "for k in l3:\n",
    "    c=c*k\n",
    "l3_mul.append(c)\n",
    "\n",
    "#Multiplication of elements inside l[3]\n",
    "for l in s1:\n",
    "    d=d*l\n",
    "s1_mul.append(d)\n",
    "\n",
    "\n",
    "print(\"Multiplication of elements in list l[0]:\",l1_mul)\n",
    "print(\"Multiplication of elements in list l[1]:\",l2_mul)\n",
    "print(\"Multiplication of elements in list l[2]:\",l3_mul)\n",
    "print(\"Multiplication of elements in list l[3]:\",s1_mul)"
   ]
  },
  {
   "cell_type": "code",
   "execution_count": null,
   "id": "c1fa78c7",
   "metadata": {},
   "outputs": [],
   "source": []
  },
  {
   "cell_type": "code",
   "execution_count": 4,
   "id": "d70347d2",
   "metadata": {},
   "outputs": [
    {
     "name": "stdout",
     "output_type": "stream",
     "text": [
      "Unwrapped all the elements in the collection to new flat list: \n",
      " [1, 2, 3, 4, 2, 3, 4, 5, 6, 3, 4, 5, 6, 7, 45, 4, 5, 23, 'k1', 'sudh', 'k2', 'ineuron', 'k3', 'kumar', 3, 6, 7, 8, 'ineuron', 'datascience']\n"
     ]
    }
   ],
   "source": [
    "#Question15: Try to unwrap all the collection inside collection and create a flat list\n",
    "\n",
    "l = [[1,2,3,4],(2,3,4,5,6),(3,4,5,6,7),set([23,4,5,45,4,4,5,45,45,4,5]),{\"k1\":\"sudh\",\"k2\":\"ineuron\",\"k3\":\"kumar\",3:6,7:8},[\"ineuron\",\"datascience\"]]\n",
    "\n",
    "l1 = []\n",
    "\n",
    "for i in l:\n",
    "    if type(i) == list or type(i) == tuple or type(i) == set:\n",
    "        for j in i:\n",
    "            l1.append(j)\n",
    "\n",
    "    if type(i) == dict:\n",
    "        for k,v in i.items():\n",
    "            l1.append(k)\n",
    "            l1.append(v)\n",
    "\n",
    "print(\"Unwrapped all the elements in the collection to new flat list:\", \"\\n\", l1)"
   ]
  },
  {
   "cell_type": "code",
   "execution_count": null,
   "id": "d70d8a0b",
   "metadata": {},
   "outputs": [],
   "source": []
  }
 ],
 "metadata": {
  "kernelspec": {
   "display_name": "Python 3 (ipykernel)",
   "language": "python",
   "name": "python3"
  },
  "language_info": {
   "codemirror_mode": {
    "name": "ipython",
    "version": 3
   },
   "file_extension": ".py",
   "mimetype": "text/x-python",
   "name": "python",
   "nbconvert_exporter": "python",
   "pygments_lexer": "ipython3",
   "version": "3.9.12"
  }
 },
 "nbformat": 4,
 "nbformat_minor": 5
}
